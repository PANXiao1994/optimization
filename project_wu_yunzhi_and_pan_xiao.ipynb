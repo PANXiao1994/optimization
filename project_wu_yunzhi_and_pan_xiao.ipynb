{
 "cells": [
  {
   "cell_type": "markdown",
   "metadata": {},
   "source": [
    "# PROJECT: Course Optimization for Data Science\n",
    "## Optimization strategies for anomaly detection\n",
    "## with One class Support Vector Machines (OCSVM)"
   ]
  },
  {
   "cell_type": "markdown",
   "metadata": {},
   "source": [
    "Author: Alexandre Gramfort\n",
    "\n",
    "If you have questions or if something is not clear in the text below please contact us\n",
    "by email.\n",
    "\n",
    "## Aim:\n",
    "\n",
    "- derive the dual for the one-class SVM model\n",
    "- implement a one-class SVM using a blackbox convex toolbox (cvxopt in Python)\n",
    "- implement your own solvers with: Proximal gradient, Coordinate Descent, Quasi-Newton\n",
    "- Present a clear benchmark of the different strategies on small and medium scale datasets\n",
    "\n",
    "\n",
    "## VERY IMPORTANT\n",
    "\n",
    "This work must be done by pairs of students.\n",
    "Each student must send their work before the 7th of January at 23:59, using the moodle platform.\n",
    "This means that **each student in the pair sends the same file**\n",
    "\n",
    "On the moodle, in the \"Optimization for Data Science\" course, you have a \"devoir\" section called \"Project\".\n",
    "This is where you submit your jupyter notebook file.\n",
    "\n",
    "The name of the file must be constructed as in the next cell\n",
    "\n",
    "### Gentle reminder: no evaluation if you don't respect this EXACTLY\n",
    "\n",
    "#### How to construct the name of your file"
   ]
  },
  {
   "cell_type": "code",
   "execution_count": 2,
   "metadata": {},
   "outputs": [
    {
     "name": "stdout",
     "output_type": "stream",
     "text": [
      "project_wu_yunzhi_and_pan_xiao.ipynb\n"
     ]
    }
   ],
   "source": [
    "# Change here using YOUR first and last names\n",
    "fn1 = \"yunzhi\"\n",
    "ln1 = \"wu\"\n",
    "fn2 = \"xiao\"\n",
    "ln2 = \"pan\"\n",
    "\n",
    "filename = \"_\".join(map(lambda s: s.strip().lower(), \n",
    "                        [\"project\", ln1, fn1, \"and\", ln2, fn2])) + \".ipynb\"\n",
    "print(filename)"
   ]
  },
  {
   "cell_type": "markdown",
   "metadata": {},
   "source": [
    "Some imports"
   ]
  },
  {
   "cell_type": "code",
   "execution_count": 3,
   "metadata": {
    "collapsed": true
   },
   "outputs": [],
   "source": [
    "%matplotlib inline\n",
    "import numpy as np\n",
    "from scipy import linalg\n",
    "import time\n",
    "import matplotlib.pyplot as plt\n",
    "import sklearn"
   ]
  },
  {
   "cell_type": "markdown",
   "metadata": {},
   "source": [
    "## Important:\n",
    "\n",
    "For Part 0 to Part 2 of the project you will need a working install of `cvxopt`.\n",
    "You may struggle a bit to set it up.\n",
    "The simplest way of getting it is by typing \n",
    "\n",
    "`conda install cvxopt`\n",
    "\n",
    "or\n",
    "\n",
    "`pip install cvxopt`\n",
    "\n",
    "if you have `conda` or `pip` installed on your laptop.\n",
    "If you **struggle too much please\n",
    "contact us**."
   ]
  },
  {
   "cell_type": "markdown",
   "metadata": {},
   "source": [
    "## Part 0: One-class SVM"
   ]
  },
  {
   "cell_type": "markdown",
   "metadata": {},
   "source": [
    "The original formulation of the One-Class SVM introduced by Schölkopf [1] is given by\n",
    "\n",
    "$$\n",
    "    (\\mathcal{P}): \\left\\{\n",
    "\t\\begin{aligned}\n",
    "\t\\min_{w, \\rho, \\xi} & \\quad \\frac{1}{2}\\Vert w \\Vert^2 - \\rho + \\frac{1}{\\nu n} \\sum_{i=1}^n \\xi_i \\\\\n",
    "\t\\text{s.t.} & \\quad \\langle w, x_i \\rangle \\geq \\rho - \\xi_i \\quad 1 \\leq i \\leq n \\\\\n",
    "\t& \\quad \\xi_i \\geq 0 \\quad 1 \\leq i \\leq n\n",
    "\t\\end{aligned}\n",
    "    \\right.\n",
    "$$\n",
    "\n",
    "where $\\nu \\in (0, 1]$ is a user-specified parameter controlling the proportion of outliers and the proportion of support vectors.\n",
    "\n",
    "Getting rid of the slack variables $\\xi_i, 1 \\leq i \\leq n$ one can also obtain the following equivalent optimization problem\n",
    "\n",
    "$$\n",
    "\t\\min_{w, \\rho} \\frac{1}{2}\\Vert w \\Vert^2 - \\rho + \\frac{1}{\\nu n} \\sum_{i=1}^n \\max(0, \\rho - \\langle w, x_i \\rangle) \\, .\n",
    "$$\n",
    "\n",
    "The idea is that the lower is $\\langle w, x_i \\rangle$ is the more $x_i$ is an anomaly and if $\\langle w, x_i \\rangle \\geq \\rho$ then the model predicts the sample is normal. $\\langle w, x_i \\rangle$ corresponds to the decision function and $\\textrm{sign}(\\langle w, x_i \\rangle - \\rho)$ as the prediction (1 means normal sample).\n",
    "\n",
    "[1] Schölkopf et al. Estimating the support of a high-dimensional distribution. Neural Computation. 2001"
   ]
  },
  {
   "cell_type": "markdown",
   "metadata": {},
   "source": [
    "<div class=\"alert alert-success\">\n",
    "    <b>QUESTION 1:</b>\n",
    "     <ul>\n",
    "      <li>Justify that the problem $(\\mathcal{P})$ is convex.</li>\n",
    "    </ul>\n",
    "</div>"
   ]
  },
  {
   "cell_type": "markdown",
   "metadata": {},
   "source": [
    "\n",
    "<div class=\"alert alert-warning\">\n",
    "    <b>ANSWER</b>\n",
    "     <ul>\n",
    "\n",
    "\\begin{align}\n",
    "\\frac{1}{2}\\Vert tx+(1-t)y \\Vert^2 &=\\frac{1}{2}\\sum_{i=1}^d(t^2x_i^2+(1-t)^2y_i^2+2t(1-t)x_iy_i)\\\\\n",
    "&= \\frac{1}{2}\\sum_{i=1}^d(t^2(x_i-y_i)^2+2ty_i(x_i-y_i)+y_i^2)\\\\\n",
    "&=\\frac{1}{2}\\sum_{i=1}^d((x_i-y_i)t(t(x_i-y_i)+2y_i)+y_i^2)\\\\\n",
    "&\\leq \\frac{1}{2}\\sum_{i=1}^d((x_i-y_i)t(x_i+y_i)+y_i^2)\\\\\n",
    "&=\\frac{1}{2}\\sum_{i=1}^d(t(x_i^2-y_i^2)+y_i^2)\\\\\n",
    "&=\\frac{1}{2}(t\\Vert x\\Vert ^2+(1-t)\\Vert y\\Vert ^2)\n",
    "\\end{align}\n",
    "For any $t\\in[0,1],\\quad x,y\\in R^d$,<br\\>\n",
    "Thus, $\\frac{1}{2}\\Vert w \\Vert^2$ is convex, <br/>\n",
    "<br/>\n",
    "$ - \\rho$ and $ \\frac{1}{\\nu n} \\sum_{i=1}^n \\xi_i$ are linear, thus convex.<br/>\n",
    "<br/>\n",
    "The sum of convex functions are still convex, so the objective function is convex. <br/>\n",
    "<br/>\n",
    "Moreover, the constraints $\\quad \\langle w, x_i \\rangle \\geq \\rho - \\xi_i,\\quad 1 \\leq i \\leq n$ and $\\quad \\xi_i \\geq 0, \\quad 1 \\leq i \\leq n$ are convex. So the problem $(\\mathcal{P})$ is convex.\n",
    "</ul>\n",
    "</div>\n"
   ]
  },
  {
   "cell_type": "markdown",
   "metadata": {},
   "source": [
    "<div class=\"alert alert-success\">\n",
    "    <b>QUESTION 2:</b>\n",
    "     <ul>\n",
    "      <li>\n",
    "      By looking at the saddle points of the Lagrangian $\\mathcal{L}(w, \\rho, \\mu)$ of $\\mathcal{P}$, $\\mu \\in \\mathbb{R}_+^n$, show that the dual problem $(\\mathcal{D})$ can be written as:\n",
    "$$\n",
    "(\\mathcal{D}): \n",
    " \\left\\{\n",
    " \\begin{array}{lll}\n",
    " \\min_{\\mu} &\\frac{1}{2}\\mu^{\\top}GG^{t}\\mu\n",
    " \\\\\n",
    " \\mathrm{s.t.}& \\mu^{\\top}1_n = 1\n",
    " \\\\\n",
    " \\mathrm{and}& 0 \\leq \\mu \\leq \\frac{1}{\\nu n}\n",
    " \\end{array}\n",
    " \\right .\n",
    "$$\n",
    "\n",
    "with\n",
    "\n",
    "$$\n",
    " G = \\begin{bmatrix}x_{1}^{\\top} \\\\ \\vdots \\\\ x_{n}^{\\top}\\end{bmatrix}\n",
    "$$\n",
    "\n",
    "and $1_n = (1, \\dots, 1) \\in \\mathbb{R}^n$.\n",
    "    </li>\n",
    "    </ul>\n",
    "</div>\n",
    "\n",
    "We will **assume here qualification of the contraints** and that **strong duality holds**.\n",
    "\n",
    "**Remark:** The problem $(\\mathcal{D})$ is a *quadratic program* (QP) for which their exist off-the-shelf techniques. See below."
   ]
  },
  {
   "cell_type": "markdown",
   "metadata": {},
   "source": [
    "\n",
    "<div class=\"alert alert-warning\">\n",
    "    <b>ANSWER</b>\n",
    "     <ul>\n",
    "      $\\mathcal{L}(w, \\rho, \\mu, \\alpha, \\xi) = \\frac{1}{2}\\Vert w \\Vert^2 - \\rho + \\frac{1}{\\nu n} \\sum_{i=1}^n \\xi_i + \\sum_{i=1}^n\\mu_i(\\rho-\\xi_i-\\langle w,x_i\\rangle) - \\sum_{i=1}^n \\alpha_i\\xi_i$, where $\\alpha_i\\geq0,\\mu_i\\geq0, i=1,2,...,n$ are Lagrangian multiplers.<br\\>\n",
    "\n",
    "<br/>\n",
    "The dual problem is $max_{\\alpha,\\mu} min_{w,\\rho,\\xi}\\mathcal{L}(w, \\rho, \\mu, \\alpha, \\xi)\\quad s.t. \\alpha_i\\geq0,\\mu_i\\geq0,~i=1,2,...,n$ <br/>\n",
    "\n",
    "<br/>\n",
    "\n",
    "Do derivation to $\\mathcal{L}(w, \\rho, \\mu, \\alpha, \\xi)$ by $w,\\rho,\\xi$ and let them equal to 0, get:<br/>\n",
    "<br/>\n",
    "\n",
    "\n",
    "$$\\left\\{\n",
    " \\begin{array}{lll}\n",
    " \\frac{1}{\\nu n}-\\mu_i-\\alpha_i=0 & i=1,...,n\n",
    " \\\\\n",
    " w - \\sum_{i=1}^n\\mu_i x_i = 0\n",
    " \\\\\n",
    " \\sum_{i=1}^n\\mu_i=1\n",
    " \\end{array}\n",
    " \\right .$$\n",
    "<br/>\n",
    " \n",
    " \n",
    "Put them back into the Lagrangian, then the Dual problem can be written as:<br/>\n",
    "<br/>\n",
    "\n",
    " $max_{\\alpha\\geq0,\\mu\\geq0}\\frac{1}{2}\\Vert \\sum_{i=1}^n\\mu_i x_i\\Vert^2-\\rho+\\frac{1}{\\nu n}\\sum_{i=1}^n\\xi_i - \\langle \\sum_{i=1}^n\\mu_i x_i,\\sum_{i=1}^n\\mu_i x_i\\rangle+\\rho\\sum_{i=1}^n\\mu_i-\\sum_{i=1}^n\\mu_i\\xi_i-\\sum_{i=1}^n\\alpha_i\\xi_i\\\\=max_{\\alpha\\geq0,\\mu\\geq0}-\\frac{1}{2}\\Vert\\sum_{i=1}^n\\mu_ix_i\\Vert^2\\quad s.t.~ \\sum_{i=1}^n\\mu_i=1,\\quad \\mu_i + \\alpha_i = \\frac{1}{\\nu n}$,<br\\>\n",
    "<br/>\n",
    " \n",
    " equivalent to <br/>\n",
    " \n",
    "<br/>\n",
    " \n",
    " $min_{\\mu}\\frac{1}{2}\\Vert\\sum_{i=1}^n\\mu_ix_i\\Vert^2\\quad s.t.~0\\leq\\mu_i\\leq \\frac{1}{\\nu n},~\\sum_{i=1}^n\\mu_i=1$<br/>\n",
    " \n",
    "<br/>\n",
    " \n",
    " equivalent to:<br/>\n",
    " \n",
    "<br/>\n",
    " \n",
    " $$\n",
    "(\\mathcal{D}): \n",
    " \\left\\{\n",
    " \\begin{array}{lll}\n",
    " \\min_{\\mu} &\\frac{1}{2}\\mu^{\\top}GG^{t}\\mu\n",
    " \\\\\n",
    " \\mathrm{s.t.}& \\mu^{\\top}1_n = 1\n",
    " \\\\\n",
    " \\mathrm{and}& 0 \\leq \\mu \\leq \\frac{1}{\\nu n}\n",
    " \\end{array}\n",
    " \\right .\n",
    "$$\n",
    "\n",
    "with\n",
    "\n",
    "$$\n",
    " G = \\begin{bmatrix}x_{1}^{\\top} \\\\ \\vdots \\\\ x_{n}^{\\top}\\end{bmatrix}\n",
    "$$\n",
    "\n",
    "and $1_n = (1, \\dots, 1) \\in \\mathbb{R}^n$.\n",
    "    </ul>\n",
    "</div>\n"
   ]
  },
  {
   "cell_type": "markdown",
   "metadata": {},
   "source": [
    "<div class=\"alert alert-success\">\n",
    "    <b>QUESTION 3:</b>\n",
    "     <ul>\n",
    "     <li>Justify that given the estimated $\\mu$, the prediction function for a new sample $x$ (-1 if anomaly else 1) is given by:\n",
    "        $$\n",
    "        y = \\mathrm{sign}(\\sum_{i=1}^{n} \\mu_i x_i^\\top x - \\rho) \\enspace .\n",
    "        $$\n",
    "        The vector $w$ is therefore equal to $\\sum_{i=1}^{n} \\mu_i x_i$\n",
    "    </li>\n",
    "    </ul>\n",
    "</div>"
   ]
  },
  {
   "cell_type": "markdown",
   "metadata": {},
   "source": [
    "\n",
    "<div class=\"alert alert-warning\">\n",
    "    <b>ANSWER</b>\n",
    "     <ul>\n",
    "      <li>Since we assume that the strong duality holds, then $p=d$, and the saddle point is the optimizer. As given above, the saddle point satisfies $w - \\sum_{i=1}^n\\mu_i x_i = 0$. Thus, given the estimated $\\mu$, it must be the component of the saddle point, the prediction function for a new sample $x$ (-1 if anomaly else 1) is given by:\n",
    "        $$\n",
    "        y = \\mathrm{sign}(\\sum_{i=1}^{n} \\mu_i x_i^\\top x - \\rho) \\enspace .\n",
    "        $$</li>\n",
    "    </ul>\n",
    "</div>"
   ]
  },
  {
   "cell_type": "markdown",
   "metadata": {},
   "source": [
    "## Part 1: Implementation of solver using cvxopt"
   ]
  },
  {
   "cell_type": "markdown",
   "metadata": {},
   "source": [
    "Let's make a toy dataset in dimension 2. When using a linear kernel we need all samples to have positive values and the outliers to be close to the origin."
   ]
  },
  {
   "cell_type": "code",
   "execution_count": 4,
   "metadata": {},
   "outputs": [
    {
     "data": {
      "image/png": "[encoded data removed]",
      "text/plain": [
       "<matplotlib.figure.Figure at 0x1166b9860>"
      ]
     },
     "metadata": {},
     "output_type": "display_data"
    }
   ],
   "source": [
    "def make_dataset(n_samples, contamination=0.05, random_state=42):\n",
    "    rng = np.random.RandomState(random_state)\n",
    "    X_inliers = rng.uniform(low=2, high=5, size=(int(n_samples * (1 - contamination)), 2))\n",
    "    X_outliers = rng.uniform(low=0, high=1, size=(int(n_samples * contamination), 2))\n",
    "    X = np.concatenate((X_inliers, X_outliers), axis=0)\n",
    "    rng.shuffle(X)\n",
    "    return X\n",
    "\n",
    "X = make_dataset(500)\n",
    "plt.scatter(X[:, 0], X[:, 1], color='b');"
   ]
  },
  {
   "cell_type": "markdown",
   "metadata": {},
   "source": [
    "- The following function qp allows to solve a quadratic problem of the form:\n",
    "\n",
    "$$\n",
    "\\left\\{\n",
    "  \\begin{array}{cll}\n",
    "  &\\min_{(x)} \\frac{1}{2}x^{\\top} P x + q^\\top x\n",
    "  \\\\\n",
    "   & \\textrm{s.t.}\\; A x = b, 0 \\leq x \\leq C.\n",
    "  \\end{array}\n",
    "  \\right.\n",
    "$$\n",
    "\n",
    "See documentation: http://cvxopt.org/userguide/coneprog.html#quadratic-programming"
   ]
  },
  {
   "cell_type": "code",
   "execution_count": 5,
   "metadata": {
    "collapsed": true
   },
   "outputs": [],
   "source": [
    "import cvxopt\n",
    "\n",
    "\n",
    "def qp(P, q, A, b, C, verbose=True):\n",
    "    # Gram matrix\n",
    "    n = P.shape[0]\n",
    "    P = cvxopt.matrix(P)\n",
    "    q = cvxopt.matrix(q)\n",
    "    A = cvxopt.matrix(A)\n",
    "    b = cvxopt.matrix(b)\n",
    "    G = cvxopt.matrix(np.concatenate([np.diag(np.ones(n) * -1),\n",
    "                                     np.diag(np.ones(n))], axis=0))\n",
    "    h = cvxopt.matrix(np.concatenate([np.zeros(n), C * np.ones(n)]))\n",
    "\n",
    "    # Solve QP problem\n",
    "    cvxopt.solvers.options['show_progress'] = verbose\n",
    "    solution = cvxopt.solvers.qp(P, q, G, h, A, b, solver='mosec')\n",
    " \n",
    "    return np.ravel(solution['x'])"
   ]
  },
  {
   "cell_type": "markdown",
   "metadata": {},
   "source": [
    "Definition of the linear kernel:"
   ]
  },
  {
   "cell_type": "code",
   "execution_count": 6,
   "metadata": {
    "collapsed": true
   },
   "outputs": [],
   "source": [
    "def kernel(X1, X2):\n",
    "    n1 = X1.shape[0]\n",
    "    n2 = X2.shape[0]\n",
    "    K = np.empty((n1, n2))\n",
    "    for i in range(n1):\n",
    "        for j in range(n2):\n",
    "            K[i, j] = np.dot(X1[i], X2[j])\n",
    "    return K"
   ]
  },
  {
   "cell_type": "markdown",
   "metadata": {},
   "source": [
    "**Remark:** You can use `sklearn.metrics.pairwise_distances` to avoid the for loops and make it faster."
   ]
  },
  {
   "cell_type": "markdown",
   "metadata": {},
   "source": [
    "<div class=\"alert alert-success\">\n",
    "    <b>QUESTION 4:</b>\n",
    "     <ul>\n",
    "      <li>Modify the following cell to solve the One-Class SVM dual problem.</li>\n",
    "    </ul>\n",
    "</div>"
   ]
  },
  {
   "cell_type": "code",
   "execution_count": 7,
   "metadata": {},
   "outputs": [
    {
     "name": "stdout",
     "output_type": "stream",
     "text": [
      "Number of support vectors: 50\n"
     ]
    }
   ],
   "source": [
    "# TODO\n",
    "def ocsvm_solver(K, nu=0.1):\n",
    "    n = K.shape[0]\n",
    "    P = K\n",
    "    q = np.zeros(n)\n",
    "    A = np.ones((1,n))\n",
    "    b = np.ones((1,1))\n",
    "    C = 1./(nu * n)\n",
    "    mu = qp(P, q, A, b, C, verbose=False)\n",
    "    idx_support = np.where(np.abs(mu) > 1e-5)[0]\n",
    "    mu_support = mu[idx_support]\n",
    "    return mu_support, idx_support\n",
    "\n",
    "K = kernel(X, X)\n",
    "\n",
    "# Uncomment the following lines when your ocsvm_solver is completed:\n",
    "mu_support, idx_support = ocsvm_solver(K,0.1)\n",
    "print(\"Number of support vectors: %s\" % idx_support.size)"
   ]
  },
  {
   "cell_type": "markdown",
   "metadata": {},
   "source": [
    "<div class=\"alert alert-success\">\n",
    "    <b>QUESTION 5:</b>\n",
    "     <ul>\n",
    "      <li>Compute w using mu.</li>\n",
    "    </ul>\n",
    "</div>"
   ]
  },
  {
   "cell_type": "code",
   "execution_count": 8,
   "metadata": {},
   "outputs": [
    {
     "name": "stdout",
     "output_type": "stream",
     "text": [
      "[ 1.37631398  1.37252753]\n"
     ]
    }
   ],
   "source": [
    "# TODO\n",
    "mu_support, idx_support = ocsvm_solver(K,0.1)\n",
    "w = mu_support.dot(X[idx_support])\n",
    "print(w)"
   ]
  },
  {
   "cell_type": "markdown",
   "metadata": {},
   "source": [
    "<div class=\"alert alert-success\">\n",
    "    <b>QUESTION 6:</b>\n",
    "     <ul>\n",
    "      <li>Using complementary slackness, explain how to obtain $\\rho$ from $\\mu$.</li>\n",
    "    </ul>\n",
    "</div>\n",
    "\n",
    "**HINT:** Use the fact that for all support vectors for which $0 < \\mu_i < \\frac{1}{\\nu n}$ one has $w^{t}x_{i} = \\rho$."
   ]
  },
  {
   "cell_type": "markdown",
   "metadata": {},
   "source": [
    "<div class=\"alert alert-warning\">\n",
    "    <b>ANSWER</b>\n",
    "     <ul>\n",
    "      <li>Since $\\rho$ is a constant, so it can be computed using any $x_i$ where the corresponding index i satisfies $0 < \\mu_i < \\frac{1}{\\nu n}$.</li>\n",
    "      <li>The $\\mu$(support) derived by ocsvm_solver contains $\\mu_i$ which satisfies $\\mu_i>0$.</li>\n",
    "      <li>Wheras most of them do not satisfies $\\mu_i < \\frac{1}{\\nu n}$, which means we have $\\mu_i = \\frac{1}{\\nu n}$ for most of them.</li>\n",
    "      <li>We use the smallest $\\mu_i$ among $\\mu$(support), which should be strictly smaller than $\\frac{1}{\\nu n}$, to compute $\\rho$.</li>\n",
    "    </ul>\n",
    "</div>\n",
    "**IMPLEMENTATION:** See the code below"
   ]
  },
  {
   "cell_type": "code",
   "execution_count": 9,
   "metadata": {},
   "outputs": [
    {
     "name": "stdout",
     "output_type": "stream",
     "text": [
      "6.75709879671\n"
     ]
    }
   ],
   "source": [
    "# TODO\n",
    "def compute_rho(K, mu_support, idx_support):\n",
    "    # TODO\n",
    "    idx_mu_min = mu_support.argmin() # get the index of the mu which satisfies the inequality constraint\n",
    "    K_support = K[idx_support][:, idx_support]\n",
    "    rho = mu_support.dot(K_support)[idx_mu_min]\n",
    "    return rho\n",
    "\n",
    "computed_rho = compute_rho(K, mu_support, idx_support)\n",
    "print(computed_rho)"
   ]
  },
  {
   "cell_type": "markdown",
   "metadata": {},
   "source": [
    "<div class=\"alert alert-success\">\n",
    "    <b>QUESTION 7:</b>\n",
    "     <ul>\n",
    "      <li>Verify that you find the same values as what scikit-learn gives. You should have the same support vectors and:\n",
    "\n",
    "\n",
    "`rho = -ocsvm.intercept_[0] / (ocsvm.nu * len(K))`\n",
    "\n",
    "and `mu_support = ocsvm.dual_coef_.ravel() / (ocsvm.nu * len(K))`</li>\n",
    "    </ul>\n",
    "</div>"
   ]
  },
  {
   "cell_type": "code",
   "execution_count": 10,
   "metadata": {},
   "outputs": [
    {
     "name": "stdout",
     "output_type": "stream",
     "text": [
      "[  4  23  66  72  90  92 109 113]\n",
      "[  4  23  66  72  90  92 109 113]\n",
      "2.16400352023\n",
      "2.16400355501\n",
      "[ 0.13422819  0.13422819  0.06040268  0.13422819  0.13422819  0.13422819\n",
      "  0.13422819  0.13422819]\n",
      "[ 0.13422819  0.13422819  0.06040268  0.13422819  0.13422819  0.13422819\n",
      "  0.13422819  0.13422819]\n"
     ]
    }
   ],
   "source": [
    "from sklearn.utils.testing import assert_array_almost_equal\n",
    "from sklearn.utils.testing import assert_almost_equal\n",
    "from sklearn.svm import OneClassSVM\n",
    "\n",
    "X = make_dataset(150)\n",
    "\n",
    "ocsvm = OneClassSVM(kernel='linear', nu=0.05)\n",
    "ocsvm.fit(X)\n",
    "\n",
    "K = kernel(X, X)\n",
    "mu_support, idx_support = ocsvm_solver(K, nu=ocsvm.nu)\n",
    "rho = compute_rho(K, mu_support, idx_support)\n",
    "\n",
    "# Check indices of support vectors\n",
    "print(ocsvm.support_)\n",
    "print(idx_support)\n",
    "\n",
    "# Check rho\n",
    "print(rho)\n",
    "print(-ocsvm.intercept_[0] / (ocsvm.nu * len(K)))\n",
    "\n",
    "# Check dual variables\n",
    "print(mu_support)\n",
    "print(ocsvm.dual_coef_.ravel() / (ocsvm.nu * len(K)))\n",
    "\n",
    "# Run formal tests:\n",
    "assert_array_almost_equal(ocsvm.support_, idx_support)\n",
    "assert_almost_equal(rho, -ocsvm.intercept_[0] / (ocsvm.nu * len(K)))\n",
    "assert_array_almost_equal(mu_support, ocsvm.dual_coef_.ravel() / (ocsvm.nu * len(K)))"
   ]
  },
  {
   "cell_type": "markdown",
   "metadata": {},
   "source": [
    "Check your code by running the following cell:"
   ]
  },
  {
   "cell_type": "code",
   "execution_count": 11,
   "metadata": {},
   "outputs": [
    {
     "data": {
      "image/png": "[encoded data removed]",
      "text/plain": [
       "<matplotlib.figure.Figure at 0x11ce7e550>"
      ]
     },
     "metadata": {},
     "output_type": "display_data"
    }
   ],
   "source": [
    "X = make_dataset(300)\n",
    "\n",
    "K = kernel(X, X)\n",
    "mu_support, idx_support = ocsvm_solver(K, nu=0.05)\n",
    "rho = compute_rho(K, mu_support, idx_support)\n",
    "\n",
    "def plot_ocsvm(X, mu_support, idx_support, rho, kernel=kernel):\n",
    "    # Compute decision function on a grid\n",
    "    X1, X2 = np.mgrid[-1:5.1:0.2, -1:5.1:0.2]\n",
    "    na, nb = X1.shape\n",
    "    X_test = np.c_[np.reshape(X1, (na * nb, 1)),\n",
    "                   np.reshape(X2, (na * nb, 1))]\n",
    "\n",
    "    # Compute dot products\n",
    "    X_support = X[idx_support]\n",
    "    G = kernel(X_test, X_support)\n",
    "    # Compute decision function\n",
    "    decision = G.dot(mu_support) - rho\n",
    "\n",
    "    # Compute predict label\n",
    "    y_pred = np.sign(decision)\n",
    "\n",
    "    # Plot decision boundary\n",
    "    plt.plot(X[:,0], X[:, 1], 'or', linewidth=2)\n",
    "    Z = np.reshape(decision, (na, nb))\n",
    "    plt.contourf(X1, X2, Z, 20, cmap=plt.cm.gray)\n",
    "    cs = plt.contour(X1, X2, Z, [0], colors='y', linewidths=2, zorder=10)\n",
    "    plt.xlabel('x1')\n",
    "    plt.ylabel('x2')\n",
    "    plt.xlim([-1, 5])\n",
    "    plt.ylim([-1, 5])\n",
    "\n",
    "plot_ocsvm(X, mu_support, idx_support, rho)"
   ]
  },
  {
   "cell_type": "markdown",
   "metadata": {},
   "source": [
    "<div class=\"alert alert-success\">\n",
    "    <b>QUESTION 8:</b>\n",
    "     <ul>\n",
    "      <li>Without any implementation, can you justify if you can apply any of the algorithm, among proximal gradient, coordinate descent, stochastic gradient descent and L-BFGS to the dual problem?\n",
    "      </li>\n",
    "    </ul>\n",
    "</div>"
   ]
  },
  {
   "cell_type": "markdown",
   "metadata": {},
   "source": [
    "<div class=\"alert alert-warning\">\n",
    "    <b>ANSWER</b>\n",
    "     <ul>\n",
    "      <li>None of these algorithms could be applied to solve this dual problem because they can only be applied to unconstrained problems.</li>\n",
    "    </ul>\n",
    "</div>"
   ]
  },
  {
   "cell_type": "markdown",
   "metadata": {},
   "source": [
    "## Part 1: non-linear case with kernels"
   ]
  },
  {
   "cell_type": "markdown",
   "metadata": {},
   "source": [
    "Another scenario is when the boundary between normal samples and outliers is not linear.\n",
    "\n",
    "To cope with this the idea is to use kernels.\n",
    "\n",
    "<div class=\"alert alert-success\">\n",
    "    <b>QUESTION 9:</b>\n",
    "     <ul>\n",
    "      <li>Denoting by $K(x_i, x_j)$ the dot product between samples show that dual problem and the decision function f(x) can be reformulated just using calls to $K$\n",
    "      </li>\n",
    "    </ul>\n",
    "</div>"
   ]
  },
  {
   "cell_type": "markdown",
   "metadata": {},
   "source": [
    "<div class=\"alert alert-warning\">\n",
    "    <b>ANSWER</b>\n",
    "      $$G^tG=K(X,X)$$\n",
    "      so \n",
    "      \\begin{align*}\n",
    "      y(x) &= \\mathrm{sign}(\\sum_{i=1}^{n} \\mu_i x_i^\\top x - \\rho) \\enspace\\\\\n",
    "      &= \\mathrm{sign}(\\sum_{i=1}^n\\mu_i K(x_i,x)-\\sum_{i=1}^n\\mu_i K(x_i,x_j)),\\quad \\forall j \\quad s.t.\\mu_i\\in(0,\\frac{1}{\\nu n})  \\\\\n",
    "      &= \\mathrm{sign}(\\mu ^T K(x_:,x)-\\mu ^T K(x_:,x_j)),\\quad \\forall j \\quad s.t.\\mu_i\\in(0,\\frac{1}{\\nu n})  \n",
    "      \\end{align*}\n",
    "</div>"
   ]
  },
  {
   "cell_type": "markdown",
   "metadata": {},
   "source": [
    "We will use another dataset to evaluate this:"
   ]
  },
  {
   "cell_type": "code",
   "execution_count": 12,
   "metadata": {},
   "outputs": [
    {
     "data": {
      "image/png": "[encoded data removed]",
      "text/plain": [
       "<matplotlib.figure.Figure at 0x11689aa90>"
      ]
     },
     "metadata": {},
     "output_type": "display_data"
    }
   ],
   "source": [
    "def make_blob_dataset(n_samples, contamination=0.05, random_state=42):\n",
    "    rng = np.random.RandomState(random_state)\n",
    "    X_inliers = 0.3 * rng.normal(size=(int(n_samples * (1. - contamination)), 2)) + 2\n",
    "    X_outliers = rng.uniform(low=-1, high=5, size=(int(n_samples * contamination), 2))\n",
    "    X = np.concatenate((X_inliers, X_outliers), axis=0)\n",
    "    rng.shuffle(X)\n",
    "    return X\n",
    "\n",
    "X = make_blob_dataset(300)\n",
    "plt.scatter(X[:, 0], X[:, 1], color='b');"
   ]
  },
  {
   "cell_type": "markdown",
   "metadata": {},
   "source": [
    "<div class=\"alert alert-success\">\n",
    "    <b>QUESTION 10:</b>\n",
    "     <ul>\n",
    "      <li>Update your kernel function so it computes the Gaussian kernel:\n",
    "      \n",
    "        $$\n",
    "            K(x_i, x_j) = \\exp(-\\gamma \\| x_i - x_j \\|^2)\n",
    "        $$\n",
    "\n",
    "        where $\\gamma > 0$ is the kernel bandwidth.\n",
    "      </li>\n",
    "    </ul>\n",
    "</div>"
   ]
  },
  {
   "cell_type": "code",
   "execution_count": 13,
   "metadata": {
    "collapsed": true
   },
   "outputs": [],
   "source": [
    "# TODO\n",
    "\n",
    "from scipy import linalg\n",
    "\n",
    "def rbf_kernel(X1, X2):\n",
    "    n1 = X1.shape[0]\n",
    "    n2 = X2.shape[0]\n",
    "    K = np.empty((n1, n2))\n",
    "    gamma = .3\n",
    "    for i in range(n1):\n",
    "        for j in range(n2):\n",
    "            K[i, j] = np.exp(-gamma*np.linalg.norm(X1[i]-X2[j])**2)  # CHANGE THIS\n",
    "    return K"
   ]
  },
  {
   "cell_type": "markdown",
   "metadata": {},
   "source": [
    "Using the change above the follwing code should allow you to nicely separate the dense region from the outliers"
   ]
  },
  {
   "cell_type": "code",
   "execution_count": 14,
   "metadata": {},
   "outputs": [
    {
     "data": {
      "image/png": "[encoded data removed]",
      "text/plain": [
       "<matplotlib.figure.Figure at 0x11689aef0>"
      ]
     },
     "metadata": {},
     "output_type": "display_data"
    }
   ],
   "source": [
    "X = make_blob_dataset(150)\n",
    "\n",
    "K = rbf_kernel(X, X)\n",
    "mu_support, idx_support = ocsvm_solver(K, nu=0.1)\n",
    "rho = compute_rho(K, mu_support, idx_support)\n",
    "\n",
    "plot_ocsvm(X, mu_support, idx_support, rho, kernel=rbf_kernel)"
   ]
  },
  {
   "cell_type": "markdown",
   "metadata": {},
   "source": [
    "## Part 2: One-class SVM without $\\rho$\n",
    "\n",
    "Formulation for example used in:\n",
    "\n",
    "```\n",
    "Consistency of one-class SVM and related algorithms\n",
    "Régis Vert and Jean-philippe Vert\n",
    "NIPS 2006\n",
    "```"
   ]
  },
  {
   "cell_type": "markdown",
   "metadata": {},
   "source": [
    "The problem of the formuation of SVMs with the variable $\\rho$ is that\n",
    "it leads to an annoying constraint in the dual, namely the $\\mu^{\\top}1_n = 1$.\n",
    "\n",
    "We will now see what we can do about it.\n",
    "\n",
    "Let's consider the problem\n",
    "\n",
    "$$\n",
    "\t\\begin{aligned}\n",
    "\t\\min_{w, \\xi} & \\quad \\frac{1}{2}\\Vert w \\Vert^2 + \\frac{C}{n} \\sum_{i=1}^n \\xi_i \\\\\n",
    "\t\\text{s.t.} & \\quad \\langle w, x_i \\rangle \\geq 1 - \\xi_i \\quad 1 \\leq i \\leq n \\\\\n",
    "\t& \\quad \\xi_i \\geq 0 \\quad 1 \\leq i \\leq n\n",
    "\t\\end{aligned}\n",
    "$$"
   ]
  },
  {
   "cell_type": "markdown",
   "metadata": {},
   "source": [
    "<div class=\"alert alert-success\">\n",
    "    <b>QUESTION 10:</b>\n",
    "     <ul>\n",
    "      <li>Show that a dual problem of this problem is given by:\n",
    "      \n",
    "        $$\n",
    "        (\\mathcal{D}):\n",
    "            \\left\\{\n",
    "            \\begin{array}{lll}\n",
    "            \\min_{\\mu} &\\frac{1}{2}\\mu^{\\top}GG^{\\top}\\mu-\\mu^{\\top} 1_n\n",
    "            \\\\\n",
    "            \\mathrm{s.t.}& 0 \\leq \\mu \\leq \\frac{C}{n}\n",
    "            \\end{array}\n",
    "            \\right .\n",
    "        $$\n",
    "      </li>\n",
    "    </ul>\n",
    "</div>"
   ]
  },
  {
   "cell_type": "markdown",
   "metadata": {},
   "source": [
    "\n",
    "<div class=\"alert alert-warning\">\n",
    "    <b>ANSWER</b>\n",
    "     <ul>\n",
    "      $\\mathcal{L}(w, \\mu, \\alpha, \\xi) = \\frac{1}{2}\\Vert w \\Vert^2 + \\frac{C}{n} \\sum_{i=1}^n \\xi_i + \\sum_{i=1}^n\\mu_i(1-\\xi_i-\\langle w,x_i\\rangle) - \\sum_{i=1}^n \\alpha_i\\xi_i$, where $\\alpha_i\\geq0,\\mu_i\\geq0, i=1,2,...,n$ are Lagrangian multiplers.<br\\>\n",
    "\n",
    "<br/>\n",
    "The dual problem is $max_{\\alpha,\\mu} min_{w,\\xi}\\mathcal{L}(w, \\mu, \\alpha, \\xi)\\quad s.t. \\alpha_i\\geq0,\\mu_i\\geq0,~i=1,2,...,n$ <br/>\n",
    "\n",
    "<br/>\n",
    "\n",
    "Do derivation to $\\mathcal{L}(w, \\mu, \\alpha, \\xi)$ by $w,\\xi$ and let them equal to 0, get:<br/>\n",
    "<br/>\n",
    "\n",
    "\n",
    "$$\\left\\{\n",
    " \\begin{array}{lll}\n",
    " \\frac{C}{n}-\\mu_i-\\alpha_i=0 & i=1,...,n\n",
    " \\\\\n",
    " w - \\sum_{i=1}^n\\mu_i x_i = 0\n",
    " \\end{array}\n",
    " \\right .$$\n",
    "<br/>\n",
    " \n",
    " \n",
    "Put them back into the Lagrangian, then the Dual problem can be written as:<br/>\n",
    "<br/>\n",
    "\n",
    " $max_{\\alpha\\geq0,\\mu\\geq0}\\frac{1}{2}\\Vert \\sum_{i=1}^n\\mu_i x_i\\Vert^2+\\frac{C}{n}\\sum_{i=1}^n\\xi_i - \\langle \\sum_{i=1}^n\\mu_i x_i,\\sum_{i=1}^n\\mu_i x_i\\rangle+\\sum_{i=1}^n\\mu_i-\\sum_{i=1}^n\\mu_i\\xi_i-\\sum_{i=1}^n\\alpha_i\\xi_i\\\\=max_{\\alpha\\geq0,\\mu\\geq0}-\\frac{1}{2}\\Vert\\sum_{i=1}^n\\mu_ix_i\\Vert^2+\\sum_{i=1}^n\\mu_i\n",
    "\\quad s.t.~\\mu_i + \\alpha_i = \\frac{C}{n},~\\mu_i \\geq 0, \\alpha_i \\geq 0$<br\\>\n",
    "<br/>\n",
    " \n",
    " equivalent to <br/>\n",
    " \n",
    "<br/>\n",
    "  $$\n",
    "  (\\mathcal{D}):\n",
    "\\left\\{\n",
    "\\begin{array}{lll}\n",
    " min_{\\mu}\\frac{1}{2}\\Vert\\sum_{i=1}^n\\mu_ix_i\\Vert^2 - \\sum_{i=1}^n\\mu_i\\quad\n",
    " \\\\\n",
    " s.t.~0\\leq\\mu_i\\leq \\frac{C}{n}\n",
    " \\end{array}\n",
    "\\right .\n",
    "  $$\n",
    "<br/>\n",
    " \n",
    " equivalent to:<br/>\n",
    " \n",
    "<br/>\n",
    " \n",
    " $$\n",
    "(\\mathcal{D}):\n",
    "\\left\\{\n",
    "\\begin{array}{lll}\n",
    "\\min_{\\mu} &\\frac{1}{2}\\mu^{\\top}GG^{\\top}\\mu-\\mu^{\\top} 1_n\n",
    "\\\\\n",
    "\\mathrm{s.t.}& 0 \\leq \\mu \\leq \\frac{C}{n}\n",
    "\\end{array}\n",
    "\\right .\n",
    "$$\n",
    "\n",
    "with\n",
    "\n",
    "$$\n",
    " G = \\begin{bmatrix}x_{1}^{\\top} \\\\ \\vdots \\\\ x_{n}^{\\top}\\end{bmatrix}\n",
    "$$\n",
    "\n",
    "and $1_n = (1, \\dots, 1) \\in \\mathbb{R}^n$.\n",
    "    </ul>\n",
    "</div>\n"
   ]
  },
  {
   "cell_type": "markdown",
   "metadata": {},
   "source": [
    "<div class=\"alert alert-success\">\n",
    "    <b>QUESTION 11:</b>\n",
    "     <ul>\n",
    "      <li> Rewrite the dual in the form:\n",
    "      \n",
    "            $$\n",
    "            (\\mathcal{D}): \\min_{\\mu} f(\\mu) + g(\\mu) .\n",
    "            $$\n",
    "\n",
    "            where $f$ is here a smooth function of $\\mu$ with L-Liptschitz gradient and $g$ is a non-smooth function that is separable, namely:\n",
    "\n",
    "            $$\n",
    "            g(\\mu) = \\sum_{i=1}^n g_i(\\mu_i)\n",
    "            $$\n",
    "      </li>\n",
    "    </ul>\n",
    "</div>\n",
    "\n"
   ]
  },
  {
   "cell_type": "markdown",
   "metadata": {},
   "source": [
    "<div class=\"alert alert-warning\">\n",
    "    <b>ANSWER</b>\n",
    "        $$\n",
    "        (\\mathcal{D}):\n",
    "        \\left\\{\n",
    "        \\begin{array}{lll}\n",
    "        \\min_{\\mu} &\\frac{1}{2}\\mu^{\\top}GG^{\\top}\\mu-\\mu^{\\top} 1_n\n",
    "        \\\\\n",
    "        \\mathrm{s.t.}& 0 \\leq \\mu \\leq \\frac{C}{n}\n",
    "        \\end{array}\n",
    "        \\right .\n",
    "        $$\n",
    "Then the dual problem can be rewritten as \n",
    "    $$\n",
    "    (\\mathcal{D}): \\min_{\\mu} f(\\mu) + g(\\mu) .\n",
    "    $$\n",
    "Where:  \n",
    "\\begin{align}\n",
    "& f(\\mu) = \\frac{1}{2}\\mu^{\\top}GG^{\\top}\\mu - \\mu^{\\top} 1_n\\\\\n",
    "& g(\\mu) = i_{0 \\leq x \\leq \\frac{C}{n}}(\\mu) = \\sum_{i=1}^n i_{0 \\leq x \\leq \\frac{C}{n}}(\\mu_i)\\\\\n",
    "\\end{align}\n",
    "and\n",
    "\n",
    "$$\n",
    "i_{0 \\leq x \\leq \\frac{C}{n}}(x):\n",
    "        \\left\\{\n",
    "        \\begin{array}{lll}\n",
    "        0 \\quad if \\ \\ 0 \\leq x \\leq \\frac{C}{n}\n",
    "        \\\\\n",
    "        \\inf \\quad otherwise\n",
    "        \\end{array}\n",
    "        \\right .\n",
    "$$\n",
    "</div>"
   ]
  },
  {
   "cell_type": "markdown",
   "metadata": {},
   "source": [
    "The dual in the later form can be readily optimized using the methods that you have been studying in this class:\n",
    "\n",
    "- Proximal gradient method with and without acceleration\n",
    "- L-BFGS-B\n",
    "- Coordinate descent"
   ]
  },
  {
   "cell_type": "markdown",
   "metadata": {},
   "source": [
    "<div class=\"alert alert-success\">\n",
    "    <b>QUESTION 12:</b>\n",
    "    Implement:\n",
    "     <ul>\n",
    "      <li> your own solver based on the QP function in cvxopt (reuse `qp` function above).</li>\n",
    "      <li> your own solver of proximal gradient with and without acceleration</li>\n",
    "      <li> your own version of coordinate descent</li>\n",
    "      <li> an L-BFGS-B solver using `scipy.optimize.fmin_l_bfgs_b`</li>\n",
    "    </ul>\n",
    "</div>"
   ]
  },
  {
   "cell_type": "markdown",
   "metadata": {},
   "source": [
    "You will test your implementations on the Gaussian blob corrupted with some uniform noise obtained with `make_blob_dataset` function.\n",
    "\n",
    "You will make sure that all solvers converge towards the same minimum !\n",
    "\n",
    "You will evaluate the performance of your implementations in terms of computation time on problems where the matrix $G G^\\top$ can fit in memory on your machine.\n",
    "\n",
    "You should reuse as much as possible the convergence evaluation code that you used during the labs.\n",
    "\n",
    "**Remark:** For the coordinate descent method there exist some smart updates provided you use a linear kernel.\n",
    "\n",
    "**BONUS (Hard):** Explain without implementing it how such smart updates could work for the coordinate descent solver.\n",
    "\n",
    "**IMPORTANT : This question 12 is the most important and will constitute half of the final grade on the project !**"
   ]
  },
  {
   "cell_type": "code",
   "execution_count": 15,
   "metadata": {
    "collapsed": true
   },
   "outputs": [],
   "source": [
    "X = make_blob_dataset(100)\n",
    "K = kernel(X, X)\n",
    "K_rbf = rbf_kernel(X, X)"
   ]
  },
  {
   "cell_type": "code",
   "execution_count": 16,
   "metadata": {
    "collapsed": true
   },
   "outputs": [],
   "source": [
    "c = 10\n",
    "n = K.shape[0]\n",
    "C = c / n\n",
    "n_iter = 500\n",
    "mu0 = np.ones(n)"
   ]
  },
  {
   "cell_type": "markdown",
   "metadata": {},
   "source": [
    "<div class=\"alert alert-warning\">\n",
    "<b>(1)</b>\n",
    "Our own solver based on the QP function in cvxopt\n",
    "</div>"
   ]
  },
  {
   "cell_type": "code",
   "execution_count": 17,
   "metadata": {
    "collapsed": true
   },
   "outputs": [],
   "source": [
    "def qp1(P, q, A, b, C, verbose=True):\n",
    "    # Gram matrix\n",
    "    n = P.shape[0]\n",
    "    P = cvxopt.matrix(P)\n",
    "    q = cvxopt.matrix(q)\n",
    "    G = cvxopt.matrix(np.concatenate([np.diag(np.ones(n) * -1),\n",
    "                                     np.diag(np.ones(n))], axis=0))\n",
    "    h = cvxopt.matrix(np.concatenate([np.zeros(n), C * np.ones(n)]))\n",
    "\n",
    "    # Solve QP problem\n",
    "    cvxopt.solvers.options['show_progress'] = verbose\n",
    "    solution = cvxopt.solvers.qp(P, q, G, h, solver='mosec')\n",
    " \n",
    "    return np.ravel(solution['x']),np.ravel(solution['dual objective'])"
   ]
  },
  {
   "cell_type": "code",
   "execution_count": 18,
   "metadata": {
    "collapsed": true
   },
   "outputs": [],
   "source": [
    "def solver_1(K, eps, c=10):\n",
    "    n = K.shape[0]\n",
    "    P = K\n",
    "    q = - np.ones(n)\n",
    "    A = None\n",
    "    b = None\n",
    "    C = c / n\n",
    "    mu,obj = qp1(P, q, A, b, C, verbose=False)\n",
    "    idx_support = np.where(np.abs(mu) > 1e-5)[0]\n",
    "    mu_support = mu[idx_support]\n",
    "    return mu_support, idx_support, obj"
   ]
  },
  {
   "cell_type": "markdown",
   "metadata": {},
   "source": [
    "<div class=\"alert alert-info\">\n",
    "<b>**Preparations:**</b>\n",
    "<ul>\n",
    "(1) The inspector function to keep track of the algorithms.<br>\n",
    "(2) The definitions of the objective function (f) and the penalty function (g) of the optimization problem.<br>\n",
    "(3) The get_result function to show the output of the algorithm.\n",
    "</ul>\n",
    "\n",
    "**Remark**<br>\n",
    "One evaluation of the approximation is the $\\rho$ using the compute_rho function:<br>\n",
    "We must have $\\rho \\rightarrow 1$.\n",
    "</div>"
   ]
  },
  {
   "cell_type": "code",
   "execution_count": 19,
   "metadata": {},
   "outputs": [
    {
     "name": "stdout",
     "output_type": "stream",
     "text": [
      "The true objective value is: -0.160084861507\n"
     ]
    }
   ],
   "source": [
    "mu_true,obj_true = qp1(K, - np.ones(n), None, None, C, verbose=False)\n",
    "print(\"The true objective value is:\",obj_true[0])"
   ]
  },
  {
   "cell_type": "code",
   "execution_count": 20,
   "metadata": {
    "collapsed": true
   },
   "outputs": [],
   "source": [
    "import time\n",
    "\n",
    "def inspector(loss_fun, obj_real, x_real, verbose=False):\n",
    "    \"\"\"A closure called to update metrics after each iteration.\"\"\"\n",
    "    objectives = []\n",
    "    errors = []\n",
    "    t0 = time.time()\n",
    "    it = [0] # This is a hack to be able to modify 'it' inside the closure.\n",
    "    timing = [] \n",
    "\n",
    "    def inspector_cl(xk):\n",
    "        obj = loss_fun(xk) - obj_real\n",
    "        err = norm(xk - x_real)\n",
    "        tim = time.time()-t0\n",
    "        objectives.append(obj)\n",
    "        errors.append(err)\n",
    "        timing.append(tim)\n",
    "    \n",
    "        if verbose == True:\n",
    "            if it[0] == 0:\n",
    "                print(' | '.join([name.center(10) for name in [\"it\", \"obj\", \"err\", \"time\"]]))\n",
    "            if it[0] % (n_iter / 5) == 0:\n",
    "                print(' | '.join([(\"%d\" % it[0]).rjust(10), (\"%.4e\" % obj).rjust(10), (\"%.4e\" % err).rjust(10), (\"%.4e\" % tim).rjust(10)]))\n",
    "            it[0] += 1\n",
    "    inspector_cl.obj = objectives\n",
    "    inspector_cl.err = errors\n",
    "    inspector_cl.timing = timing\n",
    "    return inspector_cl"
   ]
  },
  {
   "cell_type": "code",
   "execution_count": 21,
   "metadata": {
    "collapsed": true
   },
   "outputs": [],
   "source": [
    "#f\n",
    "def f(x):\n",
    "    x = np.asarray(x)\n",
    "    return 0.5 * x.T.dot(K).dot(x) - np.sum(x) \n",
    "\n",
    "#grad_f\n",
    "def grad_f(x):\n",
    "    x = np.asarray(x)\n",
    "    return K.dot(x) - np.ones(x.shape[0])\n",
    "\n",
    "# g\n",
    "def g(x):\n",
    "    x = np.asarray(x)\n",
    "    if (x >= 0).all() and (x <= C).all():\n",
    "        return 0\n",
    "    else:\n",
    "        return 1e9\n",
    "\n",
    "# proximate by coordinate\n",
    "def proxi(xi):\n",
    "    if xi >= 0 and xi <= C:\n",
    "        return xi\n",
    "    elif xi < 0:\n",
    "        return 0\n",
    "    else:\n",
    "        return C\n",
    "\n",
    "# proximate\n",
    "def prox(x):\n",
    "    p = []\n",
    "    for i in range(x.shape[0]):\n",
    "        p.append(proxi(x[i]))\n",
    "    return np.asarray(p)\n"
   ]
  },
  {
   "cell_type": "code",
   "execution_count": 22,
   "metadata": {
    "collapsed": true
   },
   "outputs": [],
   "source": [
    "def func(x):\n",
    "        x = np.asarray(x)\n",
    "        if (x >= 0.).all() and (x <= C).all():\n",
    "            return 0.5 * x.T.dot(K).dot(x) - np.sum(x) \n",
    "        else:\n",
    "            return 1e9 "
   ]
  },
  {
   "cell_type": "code",
   "execution_count": 122,
   "metadata": {
    "collapsed": true
   },
   "outputs": [],
   "source": [
    "def get_result(mu):\n",
    "    idx_support = np.where(np.abs(mu) > 1e-5)[0]\n",
    "    mu_support = mu[idx_support]\n",
    "    rho = compute_rho(K, mu_support, idx_support)\n",
    "    print(\"Rho:\\t\\t\",rho)\n",
    "    w = mu_support.dot(X[idx_support])\n",
    "    print(\"w:\\t\\t\",w)\n",
    "    obj = func(mu)\n",
    "    print(\"objective:\\t\",obj)\n",
    "    print(\"Number of support vectors: %s\" % idx_support.size)"
   ]
  },
  {
   "cell_type": "markdown",
   "metadata": {},
   "source": [
    "<div class=\"alert alert-warning\">\n",
    "<b>(2.1)</b>\n",
    "Our own solver of proximal gradient without acceleration\n",
    "</div>"
   ]
  },
  {
   "cell_type": "code",
   "execution_count": 24,
   "metadata": {
    "collapsed": true
   },
   "outputs": [],
   "source": [
    "from numpy.linalg import norm\n",
    "\n",
    "def ista(x0, x_true, f, grad_f, g, prox_g, eps=1e-30, n_iter=50, callback=None):\n",
    "    \"\"\"Proximal gradient descent algorithm (ISTA)\n",
    "    \"\"\"\n",
    "    x = x0.copy()\n",
    "    x_new = x0.copy()\n",
    "    n_features = K.shape[0]\n",
    "    lips = norm(K,2) # calculate the lipschitz constant\n",
    "    step = 1./lips # calculate the step size \n",
    "    \n",
    "    for k in range(n_iter):\n",
    "        if norm(x - x_true) <= eps:\n",
    "            break\n",
    "        x = prox_g(x-step*grad_f(x))\n",
    "        \n",
    "        # Update metrics after each iteration.\n",
    "        if callback is not None: \n",
    "            callback(x)\n",
    "    return x"
   ]
  },
  {
   "cell_type": "markdown",
   "metadata": {},
   "source": [
    "<div class=\"alert alert-warning\">\n",
    "<b>(2.2)</b>\n",
    "Own solver of proximal gradient with acceleration\n",
    "</div>"
   ]
  },
  {
   "cell_type": "code",
   "execution_count": 25,
   "metadata": {
    "collapsed": true
   },
   "outputs": [],
   "source": [
    "def fista(x0, x_true, f, grad_f, g, prox_g, eps=1e-30, n_iter=50, callback=None):\n",
    "    \"\"\"Accelerated proximal gradient descent algorithm (FISTA)\n",
    "    \"\"\"\n",
    "    x = x0.copy()\n",
    "    z = x0.copy()\n",
    "    x_new = x0.copy()\n",
    "    t = 1.\n",
    "    lips = norm(K,2) # calculate the lipschitz constant\n",
    "    step = 1./lips # calculate the step size\n",
    "    \n",
    "    for k in range(n_iter):\n",
    "        if norm(x - x_true) <= eps:\n",
    "            break\n",
    "        x_new = prox_g(z-step*grad_f(z))\n",
    "        t_new = (1.+np.sqrt(1.+4*t**2))/2.\n",
    "        z_new = x_new + (t-1.)/t_new *(x_new-x)\n",
    "        \n",
    "        x = x_new\n",
    "        z = z_new\n",
    "        t = t_new\n",
    "        \n",
    "        # Update metrics after each iteration.\n",
    "        if callback is not None: \n",
    "            callback(x)\n",
    "    return x"
   ]
  },
  {
   "cell_type": "markdown",
   "metadata": {},
   "source": [
    "<div class=\"alert alert-warning\">\n",
    "<b>(3)</b>\n",
    "Own version of coordinate descent\n",
    "</div>"
   ]
  },
  {
   "cell_type": "code",
   "execution_count": 26,
   "metadata": {
    "collapsed": true
   },
   "outputs": [],
   "source": [
    "def cd(x0, x_true, f, grad_f, g, prox_g, eps=1e-30, n_iter=50, callback=None):\n",
    "    x = x0.copy()\n",
    "    x_new = x0.copy()\n",
    "    n_samples, n_features = K.shape\n",
    "    L = K\n",
    "    grad = grad_f(x)\n",
    "    \n",
    "    for k in range(n_iter):\n",
    "        if norm(x - x_true) <= eps and callback is not None: \n",
    "            callback(x)\n",
    "            break\n",
    "        i = np.random.randint(0, n_features)\n",
    "        x_new[i] = proxi((x[i] - grad[i]/L[i,i]))\n",
    "        grad = grad - K[:,i]*x[i] + K[:,i]*x_new[i] # smart update\n",
    "        x[i] = x_new[i]\n",
    "        \n",
    "        # Update metrics after each iteration.\n",
    "        if k % n_features == 0 and callback is not None: \n",
    "            callback(x)\n",
    "    return x"
   ]
  },
  {
   "cell_type": "markdown",
   "metadata": {},
   "source": [
    "<div class=\"alert alert-danger\">\n",
    "**Remark:**\n",
    "For Coordinate descent, we compute the gradient of one dimension at each time, so when we compare the iteration of the algorithms, we have:\n",
    "\n",
    "1 iteration of ISTA = n_features iterations of CD\n",
    "</div>"
   ]
  },
  {
   "cell_type": "markdown",
   "metadata": {},
   "source": [
    "<div class=\"alert alert-warning\">\n",
    "<b>(4)</b>\n",
    "An L-BFGS-B solver using scipy.optimize.fmin_l_bfgs_b\n",
    "</div>"
   ]
  },
  {
   "cell_type": "code",
   "execution_count": 27,
   "metadata": {},
   "outputs": [
    {
     "name": "stdout",
     "output_type": "stream",
     "text": [
      "    it     |    obj     |    err     |    time   \n",
      "         0 | 1.6008e-01 | 1.5223e-01 | 2.4037e-03\n"
     ]
    }
   ],
   "source": [
    "from scipy.optimize import fmin_l_bfgs_b\n",
    "bfgs_inspector = inspector(func, obj_true, mu_true, verbose=True)\n",
    "mu_bfgs, _, _ = fmin_l_bfgs_b(func, mu0, grad_f, approx_grad=0, bounds=[(0.,C)]*n,callback=bfgs_inspector)#, pgtol=1e-12, disp=1, m=10"
   ]
  },
  {
   "cell_type": "markdown",
   "metadata": {},
   "source": [
    "<div class=\"alert alert-success\">\n",
    "<b>Evaluation:</b>\n",
    "<br>\n",
    "Evaluate the performance of your implementations in terms of computation time\n",
    "</div>"
   ]
  },
  {
   "cell_type": "markdown",
   "metadata": {},
   "source": [
    "# Outline\n",
    "In the following parts, we are going to compare the four methods through their \n",
    "- rate of convergency\n",
    "    * The rate of concergence is one of the most important character of an algorithm, showing the speed at which $x_k$'s approaches the optimum. It can be approximately predicted by the theoretical upperbounds, but sometimes the algorithm performs much better than the upperbound.\n",
    "- time needed for each iteration\n",
    "    * When the rate of convergency has been decided, the time needed for each iteration decides the total computation time, which we are always intersted in.\n",
    "- total computation time  \n",
    "- response to the change of C\n",
    "    * C shows the penalty coefficient or the feasible domain. We will show its relation with support vectors number.\n",
    "- response to the change of n\n",
    "    * We are interested in the performance of the algorithms when K is very large. We predict that these characters will be affected by n:\n",
    "        * time needed for each iteration: The complexity of each iteration is dependent on n.\n",
    "        * total computation time\n",
    "        * rate of convergence: rate of convergence of some methods depends on Lipschitez constant of $\\triangledown f$ and $\\Vert x_0-x_*\\Vert$ which are affected by the dimension n. \n",
    "    * We expect L-BFGS to performe better in case of large n than other methods since it limits the memory of Hessian matrix from nXn to nXm where m is a fixed number.\n",
    "\n",
    "<br\\>\n",
    "\n",
    "    "
   ]
  },
  {
   "cell_type": "code",
   "execution_count": 207,
   "metadata": {
    "collapsed": true
   },
   "outputs": [],
   "source": [
    "def display(eps, a):\n",
    "    ista_inspector = inspector(func,obj_true, mu_true, verbose=False)\n",
    "    mu_ista = ista(mu0, mu_true, f, grad_f, g, prox, eps=eps, n_iter=n_iter, callback=ista_inspector)\n",
    "    fista_inspector = inspector(func,obj_true, mu_true, verbose=False)\n",
    "    mu_fista = fista(mu0, mu_true, f, grad_f, g, prox, eps=eps, n_iter=n_iter, callback=fista_inspector)\n",
    "    cd_inspector = inspector(func,obj_true, mu_true, verbose=False)\n",
    "    mu_cd = cd(mu0, mu_true, f, grad_f, g, prox, eps=eps, n_iter=n_iter*K.shape[1], callback=cd_inspector)\n",
    "    bfgs_inspector = inspector(func, obj_true, mu_true, verbose=False)\n",
    "    mu_bfgs, _, _ = fmin_l_bfgs_b(func, mu0, grad_f, factr=1e1, bounds=[(0.,C)]*n,callback=bfgs_inspector)\n",
    "    \n",
    "    print(\"Data Size:\",K.shape)\n",
    "    print(\"The true objective value is:\",obj_true[0])\n",
    "    print(\"\\n--------------------ISTA--------------------\")\n",
    "    get_result(mu_ista)\n",
    "    print(\"\\n-------------------FISTA--------------------\")\n",
    "    get_result(mu_fista)\n",
    "    print(\"\\n---------------------CD---------------------\")\n",
    "    get_result(mu_cd)\n",
    "    print(\"\\n------------------L-BFGS--------------------\")\n",
    "    get_result(mu_bfgs)\n",
    "    print(\"\\n--------------------------------------------\")\n",
    "    \n",
    "    xs = [mu_ista, mu_fista, mu_cd, mu_bfgs]\n",
    "\n",
    "    inspectors = [ista_inspector, fista_inspector, cd_inspector, bfgs_inspector]\n",
    "\n",
    "    solvers = [\"ISTA\", \"FISTA\", \"CD\", \"L-BFGS\"]\n",
    "    \n",
    "    plt.figure(figsize=(15, 2))\n",
    "    for i, name, x in zip(range(1, 5), solvers, xs):\n",
    "        plt.subplot(1, 4, i)\n",
    "        plt.stem(x)\n",
    "        plt.ylim([0, a])\n",
    "        plt.title(name)\n",
    "        \n",
    "    \n",
    "    plt.figure(figsize=(15, 5))\n",
    "\n",
    "    plt.subplot(1, 2, 1)\n",
    "    \n",
    "    for insp in inspectors:\n",
    "        plt.semilogy(insp.obj, lw=2)\n",
    "        plt.title(\"Loss\", fontsize=18)\n",
    "        plt.xlabel(\"Epoch\", fontsize=14)\n",
    "        plt.xlim([0,2000])\n",
    "        plt.ylim([1e-10,1e0])\n",
    "        plt.ylabel(\"$f(x_k) - f(x^*)$\", fontsize=14)\n",
    "\n",
    "    plt.legend(solvers)\n",
    "\n",
    "    plt.subplot(1, 2, 2)\n",
    "\n",
    "    for insp in inspectors:\n",
    "        plt.semilogy(insp.err, lw=2)\n",
    "        plt.title(\"Distance to optimum\", fontsize=18)\n",
    "        plt.xlim([0,2000])\n",
    "        plt.xlabel(\"Epoch\", fontsize=14)\n",
    "        plt.ylabel(\"$\\|x_k - x^*\\|_2$\", fontsize=14)\n",
    "    \n",
    "    plt.legend(solvers);\n",
    "\n",
    "    print(\"Algorithm \\t Time \\t\\t n_iter \\t time_per_iter\")\n",
    "    for i in range(len(inspectors)):\n",
    "        print(solvers[i],\"\\t\\t%.4fs\"%inspectors[i].timing[-1],\"\\t\",len(inspectors[i].obj),\"\\t\\t%.5fs\"%(inspectors[i].timing[-1]/len(inspectors[i].obj)))\n",
    "\n"
   ]
  },
  {
   "cell_type": "markdown",
   "metadata": {},
   "source": [
    "## N = 200, C = 10, Linear Kernel"
   ]
  },
  {
   "cell_type": "code",
   "execution_count": 209,
   "metadata": {
    "collapsed": true
   },
   "outputs": [],
   "source": [
    "X = make_blob_dataset(200)\n",
    "K = kernel(X, X)\n",
    "#K = rbf_kernel(X, X)\n",
    "c = 6\n",
    "n = K.shape[0]\n",
    "C = c / n\n",
    "n_iter = 1000000\n",
    "mu0 = np.ones(n)\n",
    "mu_true,obj_true = qp1(K, - np.ones(n), None, None, C, verbose=False)"
   ]
  },
  {
   "cell_type": "code",
   "execution_count": 211,
   "metadata": {},
   "outputs": [
    {
     "name": "stdout",
     "output_type": "stream",
     "text": [
      "Data Size: (200, 200)\n",
      "The true objective value is: -0.135261013006\n",
      "\n",
      "--------------------ISTA--------------------\n",
      "Rho:\t\t 0.99999452419\n",
      "w:\t\t [ 0.35157325  0.25726756]\n",
      "objective:\t -0.13526101202\n",
      "Number of support vectors: 8\n",
      "\n",
      "-------------------FISTA--------------------\n",
      "Rho:\t\t 0.999995657489\n",
      "w:\t\t [ 0.35157358  0.25726792]\n",
      "objective:\t -0.135261012021\n",
      "Number of support vectors: 8\n",
      "\n",
      "---------------------CD---------------------\n",
      "Rho:\t\t 0.999999999999\n",
      "w:\t\t [ 0.35157484  0.25726928]\n",
      "objective:\t -0.135261012022\n",
      "Number of support vectors: 8\n",
      "\n",
      "------------------L-BFGS--------------------\n",
      "Rho:\t\t 1.00000000495\n",
      "w:\t\t [ 0.35157484  0.25726928]\n",
      "objective:\t -0.135261012022\n",
      "Number of support vectors: 8\n",
      "\n",
      "--------------------------------------------\n",
      "Algorithm \t Time \t\t n_iter \t time_per_iter\n",
      "ISTA \t\t1.6435s \t 7597 \t\t0.00022s\n",
      "FISTA \t\t0.1909s \t 878 \t\t0.00022s\n",
      "CD \t\t0.1515s \t 46 \t\t0.00329s\n",
      "L-BFGS \t\t0.0063s \t 50 \t\t0.00013s\n"
     ]
    },
    {
     "data": {
      "image/png": "[encoded data removed]",
      "text/plain": [
       "<matplotlib.figure.Figure at 0x11d0ae978>"
      ]
     },
     "metadata": {},
     "output_type": "display_data"
    },
    {
     "data": {
      "image/png": "[encoded data removed]",
      "text/plain": [
       "<matplotlib.figure.Figure at 0x1169c4f28>"
      ]
     },
     "metadata": {},
     "output_type": "display_data"
    }
   ],
   "source": [
    "display(eps=1e-6, a=5e-2)"
   ]
  },
  {
   "cell_type": "markdown",
   "metadata": {},
   "source": [
    "<div class=\"alert alert-info\">\n",
    "<h3>Observations (1):</h3>\n",
    "<li> ISTA:\n",
    "    <ul>\n",
    "    <li> ISTA has the most iteration numbers among the 4 algorithms\n",
    "    <li> However the computational time per iteration is fast\n",
    "    </ul>\n",
    "<li> FISTA:\n",
    "    <ul>\n",
    "    <li> FISTA has much less iterations than ISTA\n",
    "    <li> The computational time per iteration is fast, the same as ISTA\n",
    "    </ul>\n",
    "<li> CD:\n",
    "    <ul>\n",
    "    <li> In terms of iteration, CD converges most quickly among the 4 algorithms.\n",
    "    <li> CD has the most computational time per iteration\n",
    "    </ul>\n",
    "<li> L-BFGS:\n",
    "    <ul>\n",
    "    <li> In terms of computational time, L-BFGS converges the most quickly.\n",
    "    <li> The computational time per iteration is the fastest among the 4 algorithms\n",
    "    </ul>\n",
    "\n",
    "<h3>Analysis</h3>\n",
    "\n",
    "The theoretical rate of convergence of the four algorithms:<br\\>\n",
    "<br\\>\n",
    "<b>(1) L_BFGS</b>: The rate of convergency of L_BFGS is $O(\\alpha^k)$ where $\\alpha\\in(0,1)$ is a constant, and k is the iteration number.<br\\>\n",
    "Illustration: As a quasi Newton Method, we have approximatly<br> $\\Vert x_{k+1}-x_*\\Vert \\leq\\gamma\\Vert x_{k}-x_*\\Vert^2,\\quad \\gamma >0$<br\\>\n",
    "$\\rightarrow \\Vert x_{k+1}-x_*\\Vert \\leq \\gamma^{2k+1}\\Vert x_0 - x_*\\Vert ^{2(k+1)}$<br\\>\n",
    "<br\\>\n",
    "Thus, for $x_0$ in the domain that $\\gamma \\Vert x_0-x_*\\Vert <1$, $x_k$ will converge to the optimum with a rate of $\\alpha^{2(k+1)}$ where $\\alpha \\in(0,1)$ is a constant.<br\\>\n",
    "<br\\>\n",
    "<b>(2) CD (SDCA)</b>: $E(f(x_{k+1})-f(x_*))\\leq \\frac{n}{k/n+n}((1-\\frac{1}{n})(f(x_0)-f(x_*))+0.5\\Vert x_* - x_0\\Vert ^2_L\\sim O(\\frac{1}{k})$ <br>where n is the dimension of $\\mu$. However, this theoretical upper bound is too large, in practice, SDCA performes much better than $\\frac{1}{k}$<br\\>\n",
    "<li>**Notice:** Each iteration shown on the graph of CD refers to n real iterations. Here k is the real iteration.<br\\>\n",
    "<br\\>\n",
    "<b>(3) FISTA</b>: $f(x_{k+1})-f(x_*)\\leq\\frac{2L\\Vert x_0-x_*\\Vert ^2}{(k+1)^2} \\sim O(\\frac{1}{k^2})$ where L is the Lipschitz constant of $\\triangledown f$<br\\>\n",
    "<br\\>\n",
    "<b>(4) ISTA</b>: $f(x_{k+1})-f(x_*)\\leq\\frac{2L\\Vert x_0-x_*\\Vert ^2}{(k+1)} \\sim O(\\frac{1}{k})$ where L is the Lipschitz constant of $\\triangledown f$<br\\>\n",
    "<br\\>\n",
    "So we can oberve the convergence L-BFGS>FISTA>ISTA$\\simeq$ CD <br\\>\n",
    "<br\\>\n",
    "However, what we observed is CD>L-BFGS>FISTA>ISTA. That's probably because the upperbound of CD given by the theorem is too large, whereas the real performance of the algorithm is much better.<br\\>    \n",
    "As to the computation time of each iteration, the complexity of each iteration is as belows:<br\\>\n",
    "<b>(1) L_BFGS</b>: O(n*m), where m is the number of vectors we use each iteration.<br/>\n",
    "<b>(2) CD (SDCA)</b>: O(n^2)<br\\>\n",
    "<b>(3) FISTA</b>: O(n^2)   <br\\>\n",
    "<b>(4) ISTA</b>:  O(n^2)<br\\>\n",
    "So L-BFGS has the least computation time for each iteration, but the computation time in each iteration cannot be derived directly from complexity since there are other costs, we cannot have a precise prediction.<br\\>\n",
    "</div>\n",
    "\n",
    "### In the following, we change N and C and kernel and compare the results.\n",
    "We tried the following parameters:<br>\n",
    "N = 500, C = 10, Linear Kernel <br>\n",
    "N = 1500, C = 10, Linear Kernel <br>\n",
    "N = 200, C = 10, RBF Kernel <br>\n",
    "N = 200, C = 1.1, RBF Kernel <br>\n",
    "N = 200, C = 50, RBF Kernel\n"
   ]
  },
  {
   "cell_type": "markdown",
   "metadata": {},
   "source": [
    "## N = 500, C = 10, Linear Kernel"
   ]
  },
  {
   "cell_type": "code",
   "execution_count": 212,
   "metadata": {
    "collapsed": true
   },
   "outputs": [],
   "source": [
    "X = make_blob_dataset(500)\n",
    "K = kernel(X, X)\n",
    "#K = rbf_kernel(X, X)\n",
    "c = 10\n",
    "n = K.shape[0]\n",
    "C = c / n\n",
    "n_iter = 100000\n",
    "mu0 = np.ones(n)\n",
    "mu_true,obj_true = qp1(K, - np.ones(n), None, None, C, verbose=False)"
   ]
  },
  {
   "cell_type": "code",
   "execution_count": 213,
   "metadata": {},
   "outputs": [
    {
     "name": "stdout",
     "output_type": "stream",
     "text": [
      "Data Size: (500, 500)\n",
      "The true objective value is: -0.248300088044\n",
      "\n",
      "--------------------ISTA--------------------\n",
      "Rho:\t\t 0.999993592349\n",
      "w:\t\t [ 0.30304648  0.32318   ]\n",
      "objective:\t -0.248300043095\n",
      "Number of support vectors: 18\n",
      "\n",
      "-------------------FISTA--------------------\n",
      "Rho:\t\t 0.999996672078\n",
      "w:\t\t [ 0.3030475   0.32318091]\n",
      "objective:\t -0.248300043098\n",
      "Number of support vectors: 18\n",
      "\n",
      "---------------------CD---------------------\n",
      "Rho:\t\t 1.0\n",
      "w:\t\t [ 0.3030486   0.32318188]\n",
      "objective:\t -0.248300043099\n",
      "Number of support vectors: 18\n",
      "\n",
      "------------------L-BFGS--------------------\n",
      "Rho:\t\t 1.0\n",
      "w:\t\t [ 0.3030486   0.32318188]\n",
      "objective:\t -0.248300043099\n",
      "Number of support vectors: 18\n",
      "\n",
      "--------------------------------------------\n",
      "Algorithm \t Time \t\t n_iter \t time_per_iter\n",
      "ISTA \t\t7.9701s \t 14547 \t\t0.00055s\n",
      "FISTA \t\t0.4588s \t 765 \t\t0.00060s\n",
      "CD \t\t0.1536s \t 18 \t\t0.00854s\n",
      "L-BFGS \t\t0.0224s \t 61 \t\t0.00037s\n"
     ]
    },
    {
     "data": {
      "image/png": "[encoded data removed]",
      "text/plain": [
       "<matplotlib.figure.Figure at 0x11f066f60>"
      ]
     },
     "metadata": {},
     "output_type": "display_data"
    },
    {
     "data": {
      "image/png": "[encoded data removed]",
      "text/plain": [
       "<matplotlib.figure.Figure at 0x11d046550>"
      ]
     },
     "metadata": {},
     "output_type": "display_data"
    }
   ],
   "source": [
    "display(eps=1e-6, a=5e-2)"
   ]
  },
  {
   "cell_type": "markdown",
   "metadata": {},
   "source": [
    "## N = 1500, C = 10, Linear Kernel"
   ]
  },
  {
   "cell_type": "code",
   "execution_count": 214,
   "metadata": {
    "collapsed": true
   },
   "outputs": [],
   "source": [
    "X = make_blob_dataset(1500)\n",
    "K = kernel(X, X)\n",
    "#K = rbf_kernel(X, X)\n",
    "c = 10\n",
    "n = K.shape[0]\n",
    "C = c / n\n",
    "n_iter = 100000\n",
    "mu0 = np.ones(n)\n",
    "mu_true,obj_true = qp1(K, - np.ones(n), None, None, C, verbose=False)"
   ]
  },
  {
   "cell_type": "code",
   "execution_count": 215,
   "metadata": {},
   "outputs": [
    {
     "name": "stdout",
     "output_type": "stream",
     "text": [
      "Data Size: (1500, 1500)\n",
      "The true objective value is: -0.212673128354\n",
      "\n",
      "--------------------ISTA--------------------\n",
      "Rho:\t\t 1.00001872827\n",
      "w:\t\t [ 0.32470408  0.31331567]\n",
      "objective:\t -0.212673121557\n",
      "Number of support vectors: 48\n",
      "\n",
      "-------------------FISTA--------------------\n",
      "Rho:\t\t 1.00001390892\n",
      "w:\t\t [ 0.32470434  0.31331459]\n",
      "objective:\t -0.212673121561\n",
      "Number of support vectors: 48\n",
      "\n",
      "---------------------CD---------------------\n",
      "Rho:\t\t 1.00000000001\n",
      "w:\t\t [ 0.32470507  0.31331147]\n",
      "objective:\t -0.212673121566\n",
      "Number of support vectors: 48\n",
      "\n",
      "------------------L-BFGS--------------------\n",
      "Rho:\t\t 1.0\n",
      "w:\t\t [ 0.32470507  0.31331147]\n",
      "objective:\t -0.212673121566\n",
      "Number of support vectors: 48\n",
      "\n",
      "--------------------------------------------\n",
      "Algorithm \t Time \t\t n_iter \t time_per_iter\n",
      "ISTA \t\t88.0027s \t 36974 \t\t0.00238s\n",
      "FISTA \t\t1.9040s \t 612 \t\t0.00311s\n",
      "CD \t\t2.3952s \t 36 \t\t0.06653s\n",
      "L-BFGS \t\t0.1667s \t 78 \t\t0.00214s\n"
     ]
    },
    {
     "data": {
      "image/png": "[encoded data removed]",
      "text/plain": [
       "<matplotlib.figure.Figure at 0x116fd19e8>"
      ]
     },
     "metadata": {},
     "output_type": "display_data"
    },
    {
     "data": {
      "image/png": "[encoded data removed]",
      "text/plain": [
       "<matplotlib.figure.Figure at 0x1177cf748>"
      ]
     },
     "metadata": {},
     "output_type": "display_data"
    }
   ],
   "source": [
    "display(eps=1e-6, a=5e-2)"
   ]
  },
  {
   "cell_type": "markdown",
   "metadata": {},
   "source": [
    "<div class=\"alert alert-info\">\n",
    "<h3>Observations (2):</h3>\n",
    "<li> The iteration number\n",
    "<ul>\n",
    "    - ISTA: doubles<br>\n",
    "    - FISTA: changes slightly<br>\n",
    "    - CD: doubles<br>\n",
    "    - L-BFGS: changes slightly<br\\>\n",
    "</ul>\n",
    "<li> The computation time for each iteration increse at about 10 times.\n",
    "<li> The total computation time increase.\n",
    "<li> The results are all the same and give same support vectors.\n",
    "\n",
    "<h3>Analysis</h3>\n",
    "The rate of convergence of ISTA, FISTA, CD and L-BFGS depends on n through $\\Vert f(x_*)-f(x_0)\\Vert$ and $\\Vert x_*-x_0\\Vert$, and explicit n, but by comprehense effect, we get these phenomena. <br\\>\n",
    "\n",
    "The complexity of each iteration:\n",
    "<br>\n",
    "<b>(1) L_BFGS</b>: O(n*m), where m is the number of vectors we use each iteration.<br/>\n",
    "<b>(2) CD (SDCA)</b>: O(n^2)<br\\>\n",
    "<b>(3) FISTA</b>: O(n^2)   <br\\>\n",
    "<b>(4) ISTA</b>:  O(n^2)<br\\>\n",
    "<br\\>\n",
    "Since we increased n 3 times, we expect to oberve an 3 more times of computation time for each iteration.\n",
    "<br/>\n",
    "The 4 methods converge to the same point.\n",
    "</div>"
   ]
  },
  {
   "cell_type": "markdown",
   "metadata": {},
   "source": [
    "## N = 200, C = 10, RBF Kernel"
   ]
  },
  {
   "cell_type": "code",
   "execution_count": 216,
   "metadata": {
    "collapsed": true
   },
   "outputs": [],
   "source": [
    "X = make_blob_dataset(200)\n",
    "#K = kernel(X, X)\n",
    "K = rbf_kernel(X, X)\n",
    "kernel_1 = rbf_kernel\n",
    "c = 10\n",
    "n = K.shape[0]\n",
    "C = c / n\n",
    "n_iter = 100000\n",
    "mu0 = np.ones(n)\n",
    "mu_true,obj_true = qp1(K, - np.ones(n), None, None, C, verbose=False)"
   ]
  },
  {
   "cell_type": "code",
   "execution_count": 217,
   "metadata": {},
   "outputs": [
    {
     "name": "stdout",
     "output_type": "stream",
     "text": [
      "Data Size: (200, 200)\n",
      "The true objective value is: -0.95040052768\n",
      "\n",
      "--------------------ISTA--------------------\n",
      "Rho:\t\t 0.999983576035\n",
      "w:\t\t [ 3.61486377  3.28868277]\n",
      "objective:\t -0.950400495716\n",
      "Number of support vectors: 32\n",
      "\n",
      "-------------------FISTA--------------------\n",
      "Rho:\t\t 1.00003575327\n",
      "w:\t\t [ 3.61493919  3.28883156]\n",
      "objective:\t -0.950400496044\n",
      "Number of support vectors: 32\n",
      "\n",
      "---------------------CD---------------------\n",
      "Rho:\t\t 1.0\n",
      "w:\t\t [ 3.61490104  3.28872483]\n",
      "objective:\t -0.950400495838\n",
      "Number of support vectors: 32\n",
      "\n",
      "------------------L-BFGS--------------------\n",
      "Rho:\t\t 1.00000732232\n",
      "w:\t\t [ 3.61486534  3.28876204]\n",
      "objective:\t -0.950400496688\n",
      "Number of support vectors: 32\n",
      "\n",
      "--------------------------------------------\n",
      "Algorithm \t Time \t\t n_iter \t time_per_iter\n",
      "ISTA \t\t1.4584s \t 7105 \t\t0.00021s\n",
      "FISTA \t\t0.1087s \t 486 \t\t0.00022s\n",
      "CD \t\t0.1854s \t 56 \t\t0.00331s\n",
      "L-BFGS \t\t0.0071s \t 60 \t\t0.00012s\n"
     ]
    },
    {
     "data": {
      "image/png": "[encoded data removed]",
      "text/plain": [
       "<matplotlib.figure.Figure at 0x122aad358>"
      ]
     },
     "metadata": {},
     "output_type": "display_data"
    },
    {
     "data": {
      "image/png": "[encoded data removed]",
      "text/plain": [
       "<matplotlib.figure.Figure at 0x122a63a58>"
      ]
     },
     "metadata": {},
     "output_type": "display_data"
    }
   ],
   "source": [
    "display(eps=8e-5, a=1e-1)"
   ]
  },
  {
   "cell_type": "markdown",
   "metadata": {},
   "source": [
    "## N = 200, C = 1.1, RBF Kernel"
   ]
  },
  {
   "cell_type": "code",
   "execution_count": 222,
   "metadata": {
    "collapsed": true
   },
   "outputs": [],
   "source": [
    "X = make_blob_dataset(200)\n",
    "#K = kernel(X, X)\n",
    "K = rbf_kernel(X, X)\n",
    "c = 1.1\n",
    "n = K.shape[0]\n",
    "C = c / n\n",
    "n_iter = 100000\n",
    "mu0 = np.ones(n)\n",
    "mu_true,obj_true = qp1(K, - np.ones(n), None, None, C, verbose=False)"
   ]
  },
  {
   "cell_type": "code",
   "execution_count": 225,
   "metadata": {},
   "outputs": [
    {
     "name": "stdout",
     "output_type": "stream",
     "text": [
      "Data Size: (200, 200)\n",
      "The true objective value is: -0.584036874812\n",
      "\n",
      "--------------------ISTA--------------------\n",
      "Rho:\t\t 1.00006051307\n",
      "w:\t\t [ 2.23297762  2.18178575]\n",
      "objective:\t -0.584036696699\n",
      "Number of support vectors: 198\n",
      "\n",
      "-------------------FISTA--------------------\n",
      "Rho:\t\t 1.00009773767\n",
      "w:\t\t [ 2.23305108  2.18185701]\n",
      "objective:\t -0.584036700357\n",
      "Number of support vectors: 198\n",
      "\n",
      "---------------------CD---------------------\n",
      "Rho:\t\t 1.0\n",
      "w:\t\t [ 2.23284701  2.18166308]\n",
      "objective:\t -0.584036706908\n",
      "Number of support vectors: 198\n",
      "\n",
      "------------------L-BFGS--------------------\n",
      "Rho:\t\t 1.0\n",
      "w:\t\t [ 2.23284701  2.18166308]\n",
      "objective:\t -0.584036706908\n",
      "Number of support vectors: 198\n",
      "\n",
      "--------------------------------------------\n",
      "Algorithm \t Time \t\t n_iter \t time_per_iter\n",
      "ISTA \t\t0.5954s \t 2395 \t\t0.00025s\n",
      "FISTA \t\t0.0372s \t 142 \t\t0.00026s\n",
      "CD \t\t0.1005s \t 26 \t\t0.00387s\n",
      "L-BFGS \t\t0.0049s \t 43 \t\t0.00011s\n"
     ]
    },
    {
     "data": {
      "image/png": "[encoded data removed]",
      "text/plain": [
       "<matplotlib.figure.Figure at 0x117510c18>"
      ]
     },
     "metadata": {},
     "output_type": "display_data"
    },
    {
     "data": {
      "image/png": "[encoded data removed]",
      "text/plain": [
       "<matplotlib.figure.Figure at 0x1174b1e48>"
      ]
     },
     "metadata": {},
     "output_type": "display_data"
    }
   ],
   "source": [
    "display(eps=8e-5, a=1e-2)"
   ]
  },
  {
   "cell_type": "markdown",
   "metadata": {},
   "source": [
    "## N = 200, C = 50, RBF Kernel"
   ]
  },
  {
   "cell_type": "code",
   "execution_count": 226,
   "metadata": {
    "collapsed": true
   },
   "outputs": [],
   "source": [
    "X = make_blob_dataset(200)\n",
    "#K = kernel(X, X)\n",
    "K = rbf_kernel(X, X)\n",
    "c = 50\n",
    "n = K.shape[0]\n",
    "C = c / n\n",
    "n_iter = 100000\n",
    "mu0 = np.ones(n)\n",
    "mu_true,obj_true = qp1(K, - np.ones(n), None, None, C, verbose=False)"
   ]
  },
  {
   "cell_type": "code",
   "execution_count": 228,
   "metadata": {
    "scrolled": false
   },
   "outputs": [
    {
     "name": "stdout",
     "output_type": "stream",
     "text": [
      "Data Size: (200, 200)\n",
      "The true objective value is: -1.78514735542\n",
      "\n",
      "--------------------ISTA--------------------\n",
      "Rho:\t\t 0.999920116137\n",
      "w:\t\t [ 7.7110271   6.52575668]\n",
      "objective:\t -1.78514733383\n",
      "Number of support vectors: 12\n",
      "\n",
      "-------------------FISTA--------------------\n",
      "Rho:\t\t 0.999942254693\n",
      "w:\t\t [ 7.71108675  6.52578855]\n",
      "objective:\t -1.78514733535\n",
      "Number of support vectors: 12\n",
      "\n",
      "---------------------CD---------------------\n",
      "Rho:\t\t 1.0\n",
      "w:\t\t [ 7.71124233  6.52587169]\n",
      "objective:\t -1.78514733702\n",
      "Number of support vectors: 12\n",
      "\n",
      "------------------L-BFGS--------------------\n",
      "Rho:\t\t 1.0\n",
      "w:\t\t [ 7.71124233  6.52587169]\n",
      "objective:\t -1.78514733702\n",
      "Number of support vectors: 12\n",
      "\n",
      "--------------------------------------------\n",
      "Algorithm \t Time \t\t n_iter \t time_per_iter\n",
      "ISTA \t\t1.2212s \t 5363 \t\t0.00023s\n",
      "FISTA \t\t0.0484s \t 236 \t\t0.00021s\n",
      "CD \t\t0.1588s \t 55 \t\t0.00289s\n",
      "L-BFGS \t\t0.0047s \t 42 \t\t0.00011s\n"
     ]
    },
    {
     "data": {
      "image/png": "[encoded data removed]",
      "text/plain": [
       "<matplotlib.figure.Figure at 0x11de4e080>"
      ]
     },
     "metadata": {},
     "output_type": "display_data"
    },
    {
     "data": {
      "image/png": "[encoded data removed]",
      "text/plain": [
       "<matplotlib.figure.Figure at 0x11ce945c0>"
      ]
     },
     "metadata": {},
     "output_type": "display_data"
    }
   ],
   "source": [
    "display(eps=8e-5, a=5e-1)"
   ]
  },
  {
   "cell_type": "markdown",
   "metadata": {},
   "source": [
    "<div class=\"alert alert-info\">\n",
    "<h3>Observations (3):</h3>\n",
    "\n",
    "<li> The smaller C is, we will have more support vectors.\n",
    "<li> Computation time for each iteration don't change much.\n",
    "<li> Iteration number doesn't have a explicit relation with C.\n",
    "\n",
    "<h3>Analysis:</h3>\n",
    "<li> Since n is fixed in this part, C decides the threshold of prox：$$\n",
    "prox(x):\n",
    "        \\left\\{\n",
    "        \\begin{array}{lll}\n",
    "        x \\quad if \\ \\ 0 \\leq x \\leq \\frac{C}{n}\n",
    "        \\\\\n",
    "        \\frac{C}{n} \\quad if \\ \\ x > \\frac{C}{n}\n",
    "        \\\\\n",
    "        0 \\quad if \\ \\ x<0\n",
    "        \\end{array}\n",
    "        \\right .\n",
    "$$. When C is smaller, $\\mu$ has larger chance to be nonzero, while we know a nonzero $\\mu$ accords to a support vector.\n",
    "<li> The computation time for each iteration doesn't depend on C.\n",
    "</div>"
   ]
  },
  {
   "cell_type": "markdown",
   "metadata": {},
   "source": [
    "<div class=\"alert alert-success\">\n",
    "<b>Smart updates:</b>\n",
    "<br>\n",
    "Among the four optimization algorithms, Coordinate Descent \n",
    "</div>"
   ]
  },
  {
   "cell_type": "markdown",
   "metadata": {},
   "source": [
    "<div class=\"alert alert-warning\">\n",
    "<h3>Smart Update</h3>\n",
    "The CD we implemented is the SDCA and smart update was applied. <br><br>\n",
    "* without smart update: $$\\triangledown f(x_k)=K\\cdot x - 1_n$$\n",
    "-->Complexity for each iteration = O(n^2)<br><br>\n",
    "* with smart update: $$\\triangledown f(x_k)=\\triangledown f(x_{k-1})-K_{:,i}*x_{k-1}(i)+K_{:,i}*x_k(i)$$\n",
    "\n",
    "-->Complexity for each iteration = O(n)<br/>\n",
    "<br\\>\n",
    "With smart update, we avoid calculating a matrix multiplication of (n,n) matrix and (n,1) vector.<br\\>\n",
    "Thus, the complexity for each iteration in CD: O(n^2) --> O(n)<br>\n",
    "**Remark1:** The smart here is valid for all kernels. <br\\>\n",
    "**Remark2:** Here iteration refers to the real small iteration.\n",
    "</div>"
   ]
  },
  {
   "cell_type": "code",
   "execution_count": null,
   "metadata": {
    "collapsed": true
   },
   "outputs": [],
   "source": []
  }
 ],
 "metadata": {
  "kernelspec": {
   "display_name": "Python 3",
   "language": "python",
   "name": "python3"
  },
  "language_info": {
   "codemirror_mode": {
    "name": "ipython",
    "version": 3
   },
   "file_extension": ".py",
   "mimetype": "text/x-python",
   "name": "python",
   "nbconvert_exporter": "python",
   "pygments_lexer": "ipython3",
   "version": "3.5.4"
  }
 },
 "nbformat": 4,
 "nbformat_minor": 1
}
